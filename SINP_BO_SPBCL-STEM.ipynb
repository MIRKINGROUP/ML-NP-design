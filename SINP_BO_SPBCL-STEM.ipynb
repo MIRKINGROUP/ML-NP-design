{
 "cells": [
  {
   "cell_type": "markdown",
   "metadata": {},
   "source": [
    "# Bayesian Optimization for Single-Interface Nanoparticle Discovery"
   ]
  },
  {
   "cell_type": "markdown",
   "metadata": {},
   "source": [
    "**Notebook last update: 3/26/2021** (clean up)\n",
    "\n",
    "This notebook contains the entire closed-loop process for SINP discovery with BO through SPBCL synthesis, STEM-EDS characterization, as reported in Wahl et al. *to be submitted* 2021."
   ]
  },
  {
   "cell_type": "code",
   "execution_count": 1,
   "metadata": {},
   "outputs": [],
   "source": [
    "import pandas as pd\n",
    "from IPython.display import display\n",
    "import matplotlib.pyplot as plt\n",
    "import numpy as np\n",
    "import os\n",
    "import itertools\n",
    "import io\n",
    "\n",
    "from nanoparticle_project import EmbedCompGPUCB, get_comps, \\\n",
    "                        get_stoichiometric_formulas, compare_to_seed, load_np_data, update_with_new_data\n",
    "from matminer.featurizers.composition import ElementProperty\n",
    "from pymatgen import Composition\n",
    "\n",
    "path = os.getcwd()"
   ]
  },
  {
   "cell_type": "markdown",
   "metadata": {},
   "source": [
    "We will load our dataset into a pandas Dataframe and prepare for downstream modeling. We will prepare the feature space as described in the manuscript using the composition-derived descriptors of Ward et al."
   ]
  },
  {
   "cell_type": "markdown",
   "metadata": {},
   "source": [
    "## Prepare seed data and search space"
   ]
  },
  {
   "cell_type": "code",
   "execution_count": 2,
   "metadata": {},
   "outputs": [
    {
     "data": {
      "application/vnd.jupyter.widget-view+json": {
       "model_id": "adee93fbda4e4aeaa06fc2610483caf1",
       "version_major": 2,
       "version_minor": 0
      },
      "text/plain": [
       "ElementProperty:   0%|          | 0/148 [00:00<?, ?it/s]"
      ]
     },
     "metadata": {},
     "output_type": "display_data"
    }
   ],
   "source": [
    "df = pd.read_csv('megalibrary_data.csv')\n",
    "_elts = ['Au%', 'Ag%', 'Cu%', 'Co%', 'Ni%', 'Pt%', 'Pd%', 'Sn%']\n",
    "for col in _elts:\n",
    "    df[col] = df[col]/100.0\n",
    "df = df.sample(frac=1) # shuffling the dataframe\n",
    "df['target'] = -1*np.abs(df[\"Interfaces\"]-1) # set target to single interface NPs\n",
    "df = df[~df.duplicated()] # drop duplicates\n",
    "\n",
    "df['Composition'] = df.apply(get_comps,axis=1)\n",
    "df['n_elems'] = (df[_elts]>0).sum(axis=1)\n",
    "\n",
    "ep = ElementProperty.from_preset(preset_name='magpie')\n",
    "featurized_df = ep.featurize_dataframe(df[ ['Composition','target'] ],'Composition').drop('Composition',axis=1)"
   ]
  },
  {
   "cell_type": "markdown",
   "metadata": {},
   "source": [
    "We should now create our search space *D*. First, we generate the composition grid. Then we featurize it as before using compositional descriptors, to generate our `candidate_feats` to search over using BO. Next, we remove any composition from our search space that is closer to a data point in our experimental seed than 5% on any axis."
   ]
  },
  {
   "cell_type": "code",
   "execution_count": 3,
   "metadata": {},
   "outputs": [
    {
     "data": {
      "application/vnd.jupyter.widget-view+json": {
       "model_id": "7ee610d474e34189bcb11616202529b0",
       "version_major": 2,
       "version_minor": 0
      },
      "text/plain": [
       "ElementProperty:   0%|          | 0/7674 [00:00<?, ?it/s]"
      ]
     },
     "metadata": {},
     "output_type": "display_data"
    },
    {
     "data": {
      "text/plain": [
       "(7598, 132)"
      ]
     },
     "execution_count": 3,
     "metadata": {},
     "output_type": "execute_result"
    }
   ],
   "source": [
    "elements = ['Au%', 'Ag%', 'Cu%', 'Co%', 'Ni%', 'Pd%', 'Sn%'] # We will acquire Pt-free in the following iterations\n",
    "D = get_stoichiometric_formulas(n_components=7, npoints=11)\n",
    "candidate_data = pd.DataFrame.from_records(D,columns=elements)\n",
    "candidate_data['Pt%'] = 0.0\n",
    "candidate_data[ candidate_data <0.00001 ] = 0.0\n",
    "candidate_data['Composition'] = candidate_data.apply(get_comps,axis=1)\n",
    "candidate_feats = ep.featurize_dataframe(candidate_data, 'Composition')\n",
    "candidate_feats = candidate_feats.drop(elements+['Pt%']+['Composition'],axis=1)\n",
    "\n",
    "for ind,row in df[_elts].iterrows():\n",
    "    candidate_data = candidate_data[_elts][ np.any(np.abs(row-candidate_data)>=0.05,axis=1) ]\n",
    "candidate_feats = candidate_feats.loc[candidate_data.index]\n",
    "candidate_feats.shape"
   ]
  },
  {
   "cell_type": "markdown",
   "metadata": {},
   "source": [
    "# Closed-loop optimization procedure"
   ]
  },
  {
   "cell_type": "markdown",
   "metadata": {},
   "source": [
    "We track the closed loop iterations below step-by-step, making suggestios and updating seed and candidate space with incoming data in each round. We follow this in unfolded form, so that we can closely inspect inputs and outputs in each round."
   ]
  },
  {
   "cell_type": "markdown",
   "metadata": {},
   "source": [
    "This is our initial data and the quaternary search space:"
   ]
  },
  {
   "cell_type": "code",
   "execution_count": 4,
   "metadata": {},
   "outputs": [],
   "source": [
    "seed_df = df\n",
    "seed_data = featurized_df\n",
    "quaternaries = candidate_data[ ((candidate_data != 0).sum(axis=1) == 4)]\n",
    "quaternary_feats = candidate_feats.loc[quaternaries.index]\n",
    "round_number = 1"
   ]
  },
  {
   "cell_type": "markdown",
   "metadata": {},
   "source": [
    "## Round 1\n",
    "*Optimization agent's suggestions*:"
   ]
  },
  {
   "cell_type": "code",
   "execution_count": 5,
   "metadata": {
    "scrolled": false
   },
   "outputs": [
    {
     "name": "stdout",
     "output_type": "stream",
     "text": [
      "- beta**0.5:0:  0.32187131685488807\n",
      "- beta**0.5:1:  0.3219759073839426\n",
      "- beta**0.5:2:  0.32207976468139243\n",
      "- beta**0.5:3:  0.3221828987460505\n"
     ]
    },
    {
     "data": {
      "text/html": [
       "<div>\n",
       "<style scoped>\n",
       "    .dataframe tbody tr th:only-of-type {\n",
       "        vertical-align: middle;\n",
       "    }\n",
       "\n",
       "    .dataframe tbody tr th {\n",
       "        vertical-align: top;\n",
       "    }\n",
       "\n",
       "    .dataframe thead th {\n",
       "        text-align: right;\n",
       "    }\n",
       "</style>\n",
       "<table border=\"1\" class=\"dataframe\">\n",
       "  <thead>\n",
       "    <tr style=\"text-align: right;\">\n",
       "      <th></th>\n",
       "      <th>Au%</th>\n",
       "      <th>Ag%</th>\n",
       "      <th>Cu%</th>\n",
       "      <th>Co%</th>\n",
       "      <th>Ni%</th>\n",
       "      <th>Pt%</th>\n",
       "      <th>Pd%</th>\n",
       "      <th>Sn%</th>\n",
       "    </tr>\n",
       "  </thead>\n",
       "  <tbody>\n",
       "    <tr>\n",
       "      <th>6291</th>\n",
       "      <td>0.3</td>\n",
       "      <td>0.0</td>\n",
       "      <td>0.2</td>\n",
       "      <td>0.1</td>\n",
       "      <td>0.4</td>\n",
       "      <td>0.0</td>\n",
       "      <td>0.0</td>\n",
       "      <td>0.0</td>\n",
       "    </tr>\n",
       "    <tr>\n",
       "      <th>6236</th>\n",
       "      <td>0.3</td>\n",
       "      <td>0.0</td>\n",
       "      <td>0.1</td>\n",
       "      <td>0.2</td>\n",
       "      <td>0.4</td>\n",
       "      <td>0.0</td>\n",
       "      <td>0.0</td>\n",
       "      <td>0.0</td>\n",
       "    </tr>\n",
       "    <tr>\n",
       "      <th>6922</th>\n",
       "      <td>0.4</td>\n",
       "      <td>0.0</td>\n",
       "      <td>0.1</td>\n",
       "      <td>0.1</td>\n",
       "      <td>0.4</td>\n",
       "      <td>0.0</td>\n",
       "      <td>0.0</td>\n",
       "      <td>0.0</td>\n",
       "    </tr>\n",
       "    <tr>\n",
       "      <th>6222</th>\n",
       "      <td>0.3</td>\n",
       "      <td>0.0</td>\n",
       "      <td>0.1</td>\n",
       "      <td>0.1</td>\n",
       "      <td>0.5</td>\n",
       "      <td>0.0</td>\n",
       "      <td>0.0</td>\n",
       "      <td>0.0</td>\n",
       "    </tr>\n",
       "  </tbody>\n",
       "</table>\n",
       "</div>"
      ],
      "text/plain": [
       "      Au%  Ag%  Cu%  Co%  Ni%  Pt%  Pd%  Sn%\n",
       "6291  0.3  0.0  0.2  0.1  0.4  0.0  0.0  0.0\n",
       "6236  0.3  0.0  0.1  0.2  0.4  0.0  0.0  0.0\n",
       "6922  0.4  0.0  0.1  0.1  0.4  0.0  0.0  0.0\n",
       "6222  0.3  0.0  0.1  0.1  0.5  0.0  0.0  0.0"
      ]
     },
     "metadata": {},
     "output_type": "display_data"
    },
    {
     "name": "stdout",
     "output_type": "stream",
     "text": [
      "            Au%  Ag%   Cu%  Co%  Ni%  Pt%  Pd%  Sn%  target\n",
      "suggested  0.30  0.0  0.20  0.1  0.4  0.0  0.0  0.0     NaN\n",
      "inseed     0.23  0.0  0.17  0.0  0.6  0.0  0.0  0.0     0.0\n",
      "            Au%  Ag%  Cu%   Co%   Ni%  Pt%  Pd%  Sn%  target\n",
      "suggested  0.30  0.0  0.1  0.20  0.40  0.0  0.0  0.0     NaN\n",
      "inseed     0.32  0.0  0.0  0.29  0.39  0.0  0.0  0.0     0.0\n",
      "            Au%  Ag%  Cu%   Co%   Ni%  Pt%  Pd%   Sn%  target\n",
      "suggested  0.40  0.0  0.1  0.10  0.40  0.0  0.0  0.00     NaN\n",
      "inseed     0.37  0.0  0.0  0.18  0.36  0.0  0.0  0.09    -2.0\n",
      "            Au%  Ag%   Cu%  Co%  Ni%  Pt%  Pd%  Sn%  target\n",
      "suggested  0.30  0.0  0.10  0.1  0.5  0.0  0.0  0.0     NaN\n",
      "inseed     0.23  0.0  0.17  0.0  0.6  0.0  0.0  0.0     0.0\n"
     ]
    }
   ],
   "source": [
    "agent = EmbedCompGPUCB(n_query=4)\n",
    "suggestions = agent.get_hypotheses(candidate_data=quaternary_feats, seed_data=seed_data)\n",
    "display(quaternaries.loc[ suggestions.index ])\n",
    "compare_to_seed(quaternaries.loc[ suggestions.index ], seed_df)"
   ]
  },
  {
   "cell_type": "markdown",
   "metadata": {},
   "source": [
    "*Experimental feedback in response to suggestions:*"
   ]
  },
  {
   "cell_type": "code",
   "execution_count": 6,
   "metadata": {},
   "outputs": [
    {
     "data": {
      "application/vnd.jupyter.widget-view+json": {
       "model_id": "300408428a6f46d8ae890af31498908f",
       "version_major": 2,
       "version_minor": 0
      },
      "text/plain": [
       "ElementProperty:   0%|          | 0/16 [00:00<?, ?it/s]"
      ]
     },
     "metadata": {},
     "output_type": "display_data"
    }
   ],
   "source": [
    "new_raw_data = \"\"\"\n",
    "Co%\tNi%\tCu%\tAu%\n",
    "13.886\t42.787\t21.824\t21.502\n",
    "13.883\t43.138\t21.701\t21.278\n",
    "13.621\t42.33\t22.244\t21.805\n",
    "22.188\t34.332\t9.411\t34.069\n",
    "22.186\t33.932\t9.799\t34.083\n",
    "21.192\t34.426\t9.112\t35.269\n",
    "8.453\t33.012\t6.68\t51.855\n",
    "8.935\t34.187\t6.161\t50.718\n",
    "8.037\t34.035\t6.445\t51.483\n",
    "10.357\t34.259\t6.896\t48.487\n",
    "10.767\t35.4\t6.482\t47.352\n",
    "10.695\t36.379\t5.961\t46.965\n",
    "13.172\t47.616\t9.277\t29.935\n",
    "12.56\t49.381\t8.816\t29.243\n",
    "12.482\t47.937\t9.203\t30.378\n",
    "12.804\t48.143\t8.882\t30.172\n",
    "12.396\t48.56\t9.302\t29.742\n",
    "\"\"\"\n",
    "seed_df, seed_data, quaternaries, quaternary_feats = update_with_new_data(suggestions, new_raw_data, seed_df, seed_data, \n",
    "                                                                 quaternaries, quaternary_feats, round_number=round_number,\n",
    "                                                                 elements=elements, measured=0)\n",
    "round_number+=1"
   ]
  },
  {
   "cell_type": "markdown",
   "metadata": {},
   "source": [
    "## Round 2\n",
    "*Optimization agent's suggestions*:"
   ]
  },
  {
   "cell_type": "code",
   "execution_count": 7,
   "metadata": {},
   "outputs": [
    {
     "name": "stdout",
     "output_type": "stream",
     "text": [
      "- beta**0.5:0:  0.3234480529009444\n",
      "- beta**0.5:1:  0.32354201177926795\n",
      "- beta**0.5:2:  0.32363537589505814\n",
      "- beta**0.5:3:  0.3237281525776492\n"
     ]
    },
    {
     "data": {
      "text/html": [
       "<div>\n",
       "<style scoped>\n",
       "    .dataframe tbody tr th:only-of-type {\n",
       "        vertical-align: middle;\n",
       "    }\n",
       "\n",
       "    .dataframe tbody tr th {\n",
       "        vertical-align: top;\n",
       "    }\n",
       "\n",
       "    .dataframe thead th {\n",
       "        text-align: right;\n",
       "    }\n",
       "</style>\n",
       "<table border=\"1\" class=\"dataframe\">\n",
       "  <thead>\n",
       "    <tr style=\"text-align: right;\">\n",
       "      <th></th>\n",
       "      <th>Au%</th>\n",
       "      <th>Ag%</th>\n",
       "      <th>Cu%</th>\n",
       "      <th>Co%</th>\n",
       "      <th>Ni%</th>\n",
       "      <th>Pt%</th>\n",
       "      <th>Pd%</th>\n",
       "      <th>Sn%</th>\n",
       "    </tr>\n",
       "  </thead>\n",
       "  <tbody>\n",
       "    <tr>\n",
       "      <th>6474</th>\n",
       "      <td>0.3</td>\n",
       "      <td>0.1</td>\n",
       "      <td>0.1</td>\n",
       "      <td>0.0</td>\n",
       "      <td>0.5</td>\n",
       "      <td>0.0</td>\n",
       "      <td>0.0</td>\n",
       "      <td>0.0</td>\n",
       "    </tr>\n",
       "    <tr>\n",
       "      <th>5449</th>\n",
       "      <td>0.2</td>\n",
       "      <td>0.1</td>\n",
       "      <td>0.1</td>\n",
       "      <td>0.0</td>\n",
       "      <td>0.6</td>\n",
       "      <td>0.0</td>\n",
       "      <td>0.0</td>\n",
       "      <td>0.0</td>\n",
       "    </tr>\n",
       "    <tr>\n",
       "      <th>6310</th>\n",
       "      <td>0.3</td>\n",
       "      <td>0.0</td>\n",
       "      <td>0.2</td>\n",
       "      <td>0.4</td>\n",
       "      <td>0.1</td>\n",
       "      <td>0.0</td>\n",
       "      <td>0.0</td>\n",
       "      <td>0.0</td>\n",
       "    </tr>\n",
       "    <tr>\n",
       "      <th>7076</th>\n",
       "      <td>0.4</td>\n",
       "      <td>0.1</td>\n",
       "      <td>0.1</td>\n",
       "      <td>0.0</td>\n",
       "      <td>0.4</td>\n",
       "      <td>0.0</td>\n",
       "      <td>0.0</td>\n",
       "      <td>0.0</td>\n",
       "    </tr>\n",
       "  </tbody>\n",
       "</table>\n",
       "</div>"
      ],
      "text/plain": [
       "      Au%  Ag%  Cu%  Co%  Ni%  Pt%  Pd%  Sn%\n",
       "6474  0.3  0.1  0.1  0.0  0.5  0.0  0.0  0.0\n",
       "5449  0.2  0.1  0.1  0.0  0.6  0.0  0.0  0.0\n",
       "6310  0.3  0.0  0.2  0.4  0.1  0.0  0.0  0.0\n",
       "7076  0.4  0.1  0.1  0.0  0.4  0.0  0.0  0.0"
      ]
     },
     "metadata": {},
     "output_type": "display_data"
    },
    {
     "name": "stdout",
     "output_type": "stream",
     "text": [
      "           Au%  Ag%   Cu%   Co%   Ni%  Pt%  Pd%  Sn%  target\n",
      "suggested  0.3  0.1  0.10  0.00  0.50  0.0  0.0  0.0     NaN\n",
      "inseed     0.3  0.0  0.09  0.12  0.49  0.0  0.0  0.0     0.0\n",
      "            Au%  Ag%   Cu%  Co%  Ni%  Pt%  Pd%  Sn%  target\n",
      "suggested  0.20  0.1  0.10  0.0  0.6  0.0  0.0  0.0     NaN\n",
      "inseed     0.23  0.0  0.17  0.0  0.6  0.0  0.0  0.0     0.0\n",
      "            Au%  Ag%   Cu%   Co%  Ni%  Pt%  Pd%  Sn%  target\n",
      "suggested  0.30  0.0  0.20  0.40  0.1  0.0  0.0  0.0     NaN\n",
      "inseed     0.21  0.0  0.35  0.44  0.0  0.0  0.0  0.0     0.0\n",
      "            Au%  Ag%   Cu%   Co%   Ni%  Pt%  Pd%  Sn%  target\n",
      "suggested  0.40  0.1  0.10  0.00  0.40  0.0  0.0  0.0     NaN\n",
      "inseed     0.47  0.0  0.06  0.11  0.36  0.0  0.0  0.0     0.0\n"
     ]
    }
   ],
   "source": [
    "agent = EmbedCompGPUCB(n_query=4)\n",
    "suggestions = agent.get_hypotheses(candidate_data=quaternary_feats, seed_data=seed_data)\n",
    "display(quaternaries.loc[ suggestions.index ])\n",
    "compare_to_seed(quaternaries.loc[ suggestions.index ], seed_df)"
   ]
  },
  {
   "cell_type": "code",
   "execution_count": 8,
   "metadata": {},
   "outputs": [
    {
     "data": {
      "application/vnd.jupyter.widget-view+json": {
       "model_id": "1f429b79666e474687d092dbae1e95a8",
       "version_major": 2,
       "version_minor": 0
      },
      "text/plain": [
       "ElementProperty:   0%|          | 0/15 [00:00<?, ?it/s]"
      ]
     },
     "metadata": {},
     "output_type": "display_data"
    }
   ],
   "source": [
    "new_raw_data = \"\"\"\n",
    "Ni%\tCu%\tAg%\tAu%\tCo%\n",
    "45.71\t7.11\t7.81\t39.37\t0\n",
    "38.42\t6.87\t11.52\t43.19\t0\n",
    "37.13\t6.14\t13.34\t43.39\t0\n",
    "37.61\t6.33\t14.41\t41.65\t0\n",
    "41.49\t6.51\t8.42\t43.58\t0\n",
    "38.63\t6.72\t6.61\t48.04\t0\n",
    "40.04\t5.18\t13.91\t40.87\t0\n",
    "40.46\t4.98\t14.55\t40.01\t0\n",
    "40.36\t6.04\t7.95\t45.64\t0\n",
    "37.9\t5.35\t15.51\t41.24\t0\n",
    "41.92\t5.58\t9.75\t42.76\t0\n",
    "9.35\t14.33\t0\t33.11\t43.21\n",
    "10.1\t15.14\t0\t31.31\t43.45\n",
    "10.92\t14.98\t0\t30.16\t43.95\n",
    "10.63\t14.72\t0\t31.63\t43.01\n",
    "\"\"\"\n",
    "seed_df, seed_data, quaternaries, quaternary_feats = update_with_new_data(suggestions, new_raw_data, seed_df, seed_data, \n",
    "                                                                 quaternaries, quaternary_feats, round_number=round_number,\n",
    "                                                                 elements=elements, measured=0)\n",
    "round_number+=1"
   ]
  },
  {
   "cell_type": "markdown",
   "metadata": {},
   "source": [
    "## Round 3\n",
    "*Optimization agent's suggestions*:"
   ]
  },
  {
   "cell_type": "code",
   "execution_count": 9,
   "metadata": {},
   "outputs": [
    {
     "name": "stdout",
     "output_type": "stream",
     "text": [
      "- beta**0.5:0:  0.324786992238756\n",
      "- beta**0.5:1:  0.32487274551428946\n",
      "- beta**0.5:2:  0.32495800125823715\n",
      "- beta**0.5:3:  0.32504276509385366\n"
     ]
    },
    {
     "data": {
      "text/html": [
       "<div>\n",
       "<style scoped>\n",
       "    .dataframe tbody tr th:only-of-type {\n",
       "        vertical-align: middle;\n",
       "    }\n",
       "\n",
       "    .dataframe tbody tr th {\n",
       "        vertical-align: top;\n",
       "    }\n",
       "\n",
       "    .dataframe thead th {\n",
       "        text-align: right;\n",
       "    }\n",
       "</style>\n",
       "<table border=\"1\" class=\"dataframe\">\n",
       "  <thead>\n",
       "    <tr style=\"text-align: right;\">\n",
       "      <th></th>\n",
       "      <th>Au%</th>\n",
       "      <th>Ag%</th>\n",
       "      <th>Cu%</th>\n",
       "      <th>Co%</th>\n",
       "      <th>Ni%</th>\n",
       "      <th>Pt%</th>\n",
       "      <th>Pd%</th>\n",
       "      <th>Sn%</th>\n",
       "    </tr>\n",
       "  </thead>\n",
       "  <tbody>\n",
       "    <tr>\n",
       "      <th>6940</th>\n",
       "      <td>0.4</td>\n",
       "      <td>0.0</td>\n",
       "      <td>0.1</td>\n",
       "      <td>0.4</td>\n",
       "      <td>0.0</td>\n",
       "      <td>0.0</td>\n",
       "      <td>0.1</td>\n",
       "      <td>0.0</td>\n",
       "    </tr>\n",
       "    <tr>\n",
       "      <th>6434</th>\n",
       "      <td>0.3</td>\n",
       "      <td>0.1</td>\n",
       "      <td>0.0</td>\n",
       "      <td>0.2</td>\n",
       "      <td>0.4</td>\n",
       "      <td>0.0</td>\n",
       "      <td>0.0</td>\n",
       "      <td>0.0</td>\n",
       "    </tr>\n",
       "    <tr>\n",
       "      <th>6307</th>\n",
       "      <td>0.3</td>\n",
       "      <td>0.0</td>\n",
       "      <td>0.2</td>\n",
       "      <td>0.3</td>\n",
       "      <td>0.2</td>\n",
       "      <td>0.0</td>\n",
       "      <td>0.0</td>\n",
       "      <td>0.0</td>\n",
       "    </tr>\n",
       "    <tr>\n",
       "      <th>6301</th>\n",
       "      <td>0.3</td>\n",
       "      <td>0.0</td>\n",
       "      <td>0.2</td>\n",
       "      <td>0.2</td>\n",
       "      <td>0.3</td>\n",
       "      <td>0.0</td>\n",
       "      <td>0.0</td>\n",
       "      <td>0.0</td>\n",
       "    </tr>\n",
       "  </tbody>\n",
       "</table>\n",
       "</div>"
      ],
      "text/plain": [
       "      Au%  Ag%  Cu%  Co%  Ni%  Pt%  Pd%  Sn%\n",
       "6940  0.4  0.0  0.1  0.4  0.0  0.0  0.1  0.0\n",
       "6434  0.3  0.1  0.0  0.2  0.4  0.0  0.0  0.0\n",
       "6307  0.3  0.0  0.2  0.3  0.2  0.0  0.0  0.0\n",
       "6301  0.3  0.0  0.2  0.2  0.3  0.0  0.0  0.0"
      ]
     },
     "metadata": {},
     "output_type": "display_data"
    },
    {
     "name": "stdout",
     "output_type": "stream",
     "text": [
      "            Au%  Ag%  Cu%   Co%  Ni%  Pt%  Pd%  Sn%  target\n",
      "suggested  0.40  0.0  0.1  0.40  0.0  0.0  0.1  0.0     NaN\n",
      "inseed     0.38  0.0  0.0  0.42  0.0  0.0  0.1  0.1    -2.0\n",
      "            Au%  Ag%  Cu%   Co%   Ni%  Pt%  Pd%  Sn%  target\n",
      "suggested  0.30  0.1  0.0  0.20  0.40  0.0  0.0  0.0     NaN\n",
      "inseed     0.32  0.0  0.0  0.29  0.39  0.0  0.0  0.0     0.0\n",
      "           Au%  Ag%   Cu%   Co%   Ni%  Pt%  Pd%  Sn%  target\n",
      "suggested  0.3  0.0  0.20  0.30  0.20  0.0  0.0  0.0     NaN\n",
      "inseed     0.3  0.0  0.15  0.44  0.11  0.0  0.0  0.0     0.0\n",
      "            Au%  Ag%  Cu%   Co%   Ni%  Pt%  Pd%  Sn%  target\n",
      "suggested  0.30  0.0  0.2  0.20  0.30  0.0  0.0  0.0     NaN\n",
      "inseed     0.34  0.0  0.1  0.22  0.34  0.0  0.0  0.0     0.0\n"
     ]
    }
   ],
   "source": [
    "agent = EmbedCompGPUCB(n_query=4)\n",
    "suggestions = agent.get_hypotheses(candidate_data=quaternary_feats, seed_data=seed_data)\n",
    "display(quaternaries.loc[ suggestions.index ])\n",
    "compare_to_seed(quaternaries.loc[ suggestions.index ], seed_df)"
   ]
  },
  {
   "cell_type": "code",
   "execution_count": 10,
   "metadata": {},
   "outputs": [
    {
     "data": {
      "application/vnd.jupyter.widget-view+json": {
       "model_id": "01cdee5ffecc4329a5beb406e2d51f74",
       "version_major": 2,
       "version_minor": 0
      },
      "text/plain": [
       "ElementProperty:   0%|          | 0/17 [00:00<?, ?it/s]"
      ]
     },
     "metadata": {},
     "output_type": "display_data"
    }
   ],
   "source": [
    "new_raw_data = \"\"\"\n",
    "Ni%\tCo%\tAg%\tAu%\tCu%\tPd%\n",
    "55.4\t29.9\t5.8\t7.5\t1.5\t0.0\n",
    "55.5\t29.6\t4.5\t7.8\t2.6\t0.0\n",
    "56.2\t29.6\t4.2\t6.3\t3.7\t0.0\n",
    "63.1\t30.2\t2.8\t3.9\t0\t0.0\n",
    "63.8\t30.2\t2.3\t3.7\t0\t0.0\n",
    "62.9\t30.2\t1.4\t3.5\t2.1\t0.0\n",
    "18.8\t39.7\t0\t20.9\t20.6\t0.0\n",
    "22.8\t40.4\t0\t28.2\t8.5\t0.0\n",
    "20\t42\t0\t19\t19\t0.0\n",
    "24.4\t24.6\t0\t35.7\t15.3\t0.0\n",
    "22.9\t24.5\t0\t43\t9.6\t0.0\n",
    "25.4\t26.8\t0\t28.8\t19.1\t0.0\n",
    "25.3\t26.1\t0\t25.3\t16.2\t0.0\n",
    "0\t55\t0\t24.6\t13.2\t7.3\n",
    "0\t55.7\t0\t24.1\t13.5\t6.7\n",
    "0\t53.4\t0\t24.8\t14.3\t7.4\n",
    "0\t56.4\t0\t22.7\t13.7\t7.2\n",
    "\"\"\"\n",
    "seed_df, seed_data, quaternaries, quaternary_feats = update_with_new_data(suggestions, new_raw_data, seed_df, seed_data, \n",
    "                                                                 quaternaries, quaternary_feats, round_number=round_number,\n",
    "                                                                 elements=elements, measured=0)\n",
    "round_number+=1"
   ]
  },
  {
   "cell_type": "markdown",
   "metadata": {},
   "source": [
    "## Exploratory Rounds\n",
    "### Pentanary SINP discovery"
   ]
  },
  {
   "cell_type": "code",
   "execution_count": 11,
   "metadata": {},
   "outputs": [
    {
     "name": "stdout",
     "output_type": "stream",
     "text": [
      "- beta**0.5:0:  0.3255641307247349\n",
      "- beta**0.5:1:  0.3256422790572916\n",
      "- beta**0.5:2:  0.3257200130928286\n",
      "- beta**0.5:3:  0.32579733711234043\n",
      "- beta**0.5:4:  0.32587425533129716\n",
      "- beta**0.5:5:  0.3259507719009695\n",
      "- beta**0.5:6:  0.32602689090972103\n",
      "- beta**0.5:7:  0.32610261638426785\n",
      "- beta**0.5:8:  0.32617795229090707\n",
      "- beta**0.5:9:  0.3262529025367149\n"
     ]
    },
    {
     "data": {
      "text/html": [
       "<div>\n",
       "<style scoped>\n",
       "    .dataframe tbody tr th:only-of-type {\n",
       "        vertical-align: middle;\n",
       "    }\n",
       "\n",
       "    .dataframe tbody tr th {\n",
       "        vertical-align: top;\n",
       "    }\n",
       "\n",
       "    .dataframe thead th {\n",
       "        text-align: right;\n",
       "    }\n",
       "</style>\n",
       "<table border=\"1\" class=\"dataframe\">\n",
       "  <thead>\n",
       "    <tr style=\"text-align: right;\">\n",
       "      <th></th>\n",
       "      <th>Au%</th>\n",
       "      <th>Ag%</th>\n",
       "      <th>Cu%</th>\n",
       "      <th>Co%</th>\n",
       "      <th>Ni%</th>\n",
       "      <th>Pt%</th>\n",
       "      <th>Pd%</th>\n",
       "      <th>Sn%</th>\n",
       "    </tr>\n",
       "  </thead>\n",
       "  <tbody>\n",
       "    <tr>\n",
       "      <th>6250</th>\n",
       "      <td>0.3</td>\n",
       "      <td>0.0</td>\n",
       "      <td>0.1</td>\n",
       "      <td>0.4</td>\n",
       "      <td>0.1</td>\n",
       "      <td>0.0</td>\n",
       "      <td>0.1</td>\n",
       "      <td>0.0</td>\n",
       "    </tr>\n",
       "    <tr>\n",
       "      <th>6243</th>\n",
       "      <td>0.3</td>\n",
       "      <td>0.0</td>\n",
       "      <td>0.1</td>\n",
       "      <td>0.3</td>\n",
       "      <td>0.1</td>\n",
       "      <td>0.0</td>\n",
       "      <td>0.2</td>\n",
       "      <td>0.0</td>\n",
       "    </tr>\n",
       "    <tr>\n",
       "      <th>5073</th>\n",
       "      <td>0.2</td>\n",
       "      <td>0.0</td>\n",
       "      <td>0.1</td>\n",
       "      <td>0.2</td>\n",
       "      <td>0.4</td>\n",
       "      <td>0.0</td>\n",
       "      <td>0.1</td>\n",
       "      <td>0.0</td>\n",
       "    </tr>\n",
       "    <tr>\n",
       "      <th>5102</th>\n",
       "      <td>0.2</td>\n",
       "      <td>0.0</td>\n",
       "      <td>0.1</td>\n",
       "      <td>0.5</td>\n",
       "      <td>0.1</td>\n",
       "      <td>0.0</td>\n",
       "      <td>0.1</td>\n",
       "      <td>0.0</td>\n",
       "    </tr>\n",
       "    <tr>\n",
       "      <th>6306</th>\n",
       "      <td>0.3</td>\n",
       "      <td>0.0</td>\n",
       "      <td>0.2</td>\n",
       "      <td>0.3</td>\n",
       "      <td>0.1</td>\n",
       "      <td>0.0</td>\n",
       "      <td>0.1</td>\n",
       "      <td>0.0</td>\n",
       "    </tr>\n",
       "    <tr>\n",
       "      <th>5484</th>\n",
       "      <td>0.2</td>\n",
       "      <td>0.1</td>\n",
       "      <td>0.1</td>\n",
       "      <td>0.2</td>\n",
       "      <td>0.4</td>\n",
       "      <td>0.0</td>\n",
       "      <td>0.0</td>\n",
       "      <td>0.0</td>\n",
       "    </tr>\n",
       "    <tr>\n",
       "      <th>6221</th>\n",
       "      <td>0.3</td>\n",
       "      <td>0.0</td>\n",
       "      <td>0.1</td>\n",
       "      <td>0.1</td>\n",
       "      <td>0.4</td>\n",
       "      <td>0.0</td>\n",
       "      <td>0.1</td>\n",
       "      <td>0.0</td>\n",
       "    </tr>\n",
       "    <tr>\n",
       "      <th>6489</th>\n",
       "      <td>0.3</td>\n",
       "      <td>0.1</td>\n",
       "      <td>0.1</td>\n",
       "      <td>0.1</td>\n",
       "      <td>0.4</td>\n",
       "      <td>0.0</td>\n",
       "      <td>0.0</td>\n",
       "      <td>0.0</td>\n",
       "    </tr>\n",
       "    <tr>\n",
       "      <th>5182</th>\n",
       "      <td>0.2</td>\n",
       "      <td>0.0</td>\n",
       "      <td>0.2</td>\n",
       "      <td>0.4</td>\n",
       "      <td>0.1</td>\n",
       "      <td>0.0</td>\n",
       "      <td>0.1</td>\n",
       "      <td>0.0</td>\n",
       "    </tr>\n",
       "    <tr>\n",
       "      <th>5470</th>\n",
       "      <td>0.2</td>\n",
       "      <td>0.1</td>\n",
       "      <td>0.1</td>\n",
       "      <td>0.1</td>\n",
       "      <td>0.5</td>\n",
       "      <td>0.0</td>\n",
       "      <td>0.0</td>\n",
       "      <td>0.0</td>\n",
       "    </tr>\n",
       "  </tbody>\n",
       "</table>\n",
       "</div>"
      ],
      "text/plain": [
       "      Au%  Ag%  Cu%  Co%  Ni%  Pt%  Pd%  Sn%\n",
       "6250  0.3  0.0  0.1  0.4  0.1  0.0  0.1  0.0\n",
       "6243  0.3  0.0  0.1  0.3  0.1  0.0  0.2  0.0\n",
       "5073  0.2  0.0  0.1  0.2  0.4  0.0  0.1  0.0\n",
       "5102  0.2  0.0  0.1  0.5  0.1  0.0  0.1  0.0\n",
       "6306  0.3  0.0  0.2  0.3  0.1  0.0  0.1  0.0\n",
       "5484  0.2  0.1  0.1  0.2  0.4  0.0  0.0  0.0\n",
       "6221  0.3  0.0  0.1  0.1  0.4  0.0  0.1  0.0\n",
       "6489  0.3  0.1  0.1  0.1  0.4  0.0  0.0  0.0\n",
       "5182  0.2  0.0  0.2  0.4  0.1  0.0  0.1  0.0\n",
       "5470  0.2  0.1  0.1  0.1  0.5  0.0  0.0  0.0"
      ]
     },
     "metadata": {},
     "output_type": "display_data"
    },
    {
     "name": "stdout",
     "output_type": "stream",
     "text": [
      "            Au%  Ag%   Cu%   Co%  Ni%  Pt%  Pd%  Sn%  target\n",
      "suggested  0.30  0.0  0.10  0.40  0.1  0.0  0.1  0.0     NaN\n",
      "inseed     0.31  0.0  0.15  0.43  0.1  0.0  0.0  0.0     0.0\n",
      "            Au%  Ag%   Cu%   Co%  Ni%  Pt%  Pd%  Sn%  target\n",
      "suggested  0.30  0.0  0.10  0.30  0.1  0.0  0.2  0.0     NaN\n",
      "inseed     0.31  0.0  0.15  0.43  0.1  0.0  0.0  0.0     0.0\n",
      "            Au%  Ag%   Cu%   Co%   Ni%  Pt%  Pd%  Sn%  target\n",
      "suggested  0.20  0.0  0.10  0.20  0.40  0.0  0.1  0.0     NaN\n",
      "inseed     0.21  0.0  0.22  0.14  0.43  0.0  0.0  0.0     0.0\n",
      "            Au%  Ag%   Cu%   Co%  Ni%  Pt%   Pd%  Sn%  target\n",
      "suggested  0.20  0.0  0.10  0.50  0.1  0.0  0.10  0.0     NaN\n",
      "inseed     0.25  0.0  0.14  0.53  0.0  0.0  0.07  0.0     0.0\n",
      "            Au%  Ag%   Cu%   Co%  Ni%  Pt%  Pd%  Sn%  target\n",
      "suggested  0.30  0.0  0.20  0.30  0.1  0.0  0.1  0.0     NaN\n",
      "inseed     0.31  0.0  0.15  0.43  0.1  0.0  0.0  0.0     0.0\n",
      "            Au%  Ag%   Cu%   Co%   Ni%  Pt%  Pd%  Sn%  target\n",
      "suggested  0.20  0.1  0.10  0.20  0.40  0.0  0.0  0.0     NaN\n",
      "inseed     0.21  0.0  0.22  0.14  0.43  0.0  0.0  0.0     0.0\n",
      "           Au%  Ag%   Cu%   Co%   Ni%  Pt%  Pd%  Sn%  target\n",
      "suggested  0.3  0.0  0.10  0.10  0.40  0.0  0.1  0.0     NaN\n",
      "inseed     0.3  0.0  0.09  0.12  0.48  0.0  0.0  0.0     0.0\n",
      "           Au%  Ag%   Cu%   Co%   Ni%  Pt%  Pd%  Sn%  target\n",
      "suggested  0.3  0.1  0.10  0.10  0.40  0.0  0.0  0.0     NaN\n",
      "inseed     0.3  0.0  0.09  0.12  0.48  0.0  0.0  0.0     0.0\n",
      "            Au%  Ag%   Cu%  Co%   Ni%  Pt%  Pd%  Sn%  target\n",
      "suggested  0.20  0.0  0.20  0.4  0.10  0.0  0.1  0.0     NaN\n",
      "inseed     0.21  0.0  0.21  0.4  0.19  0.0  0.0  0.0     0.0\n",
      "            Au%  Ag%   Cu%   Co%   Ni%  Pt%  Pd%  Sn%  target\n",
      "suggested  0.20  0.1  0.10  0.10  0.50  0.0  0.0  0.0     NaN\n",
      "inseed     0.29  0.0  0.09  0.13  0.49  0.0  0.0  0.0     0.0\n"
     ]
    }
   ],
   "source": [
    "pentanaries = candidate_data[ ((candidate_data != 0).sum(axis=1) == 5)]\n",
    "pentanary_feats = candidate_feats.loc[pentanaries.index]\n",
    "agent = EmbedCompGPUCB(n_query=10)\n",
    "suggestions_pentanaries = agent.get_hypotheses(candidate_data=pentanary_feats, seed_data=seed_data)\n",
    "display(pentanaries.loc[ suggestions_pentanaries.index ])\n",
    "compare_to_seed(pentanaries.loc[ suggestions_pentanaries.index ], seed_df)"
   ]
  },
  {
   "cell_type": "code",
   "execution_count": 12,
   "metadata": {},
   "outputs": [
    {
     "data": {
      "application/vnd.jupyter.widget-view+json": {
       "model_id": "88a58eab32e64647b79d4d3b7bd10688",
       "version_major": 2,
       "version_minor": 0
      },
      "text/plain": [
       "ElementProperty:   0%|          | 0/19 [00:00<?, ?it/s]"
      ]
     },
     "metadata": {},
     "output_type": "display_data"
    }
   ],
   "source": [
    "new_raw_data = \"\"\"\n",
    "Co%\tNi%\tCu%\tPd%\tAg%\tAu%\n",
    "32.9\t10.6\t7.3\t12.2\t0\t37\n",
    "29.5\t9.5\t6.4\t20.5\t0\t34.2\n",
    "33.9\t10\t7\t12.3\t0\t36.8\n",
    "32.8\t9.9\t7\t13.6\t0\t36.7\n",
    "43.9\t18\t14.7\t9\t0\t14.4\n",
    "46.3\t18.4\t13.5\t8.2\t0\t13.6\n",
    "44.8\t18\t14.1\t8.8\t0\t14.2\n",
    "19.4\t39.8\t10.4\t11\t0\t19.4\n",
    "19.5\t40.2\t10.3\t10.8\t0\t19.3\n",
    "19.7\t40\t10.4\t10.5\t0\t19.3\n",
    "19\t40.1\t10.2\t11\t0\t19.7\n",
    "22.9\t45.1\t7.8\t0\t3.5\t20.6\n",
    "23.1\t44.8\t7\t0\t5.9\t19.1\n",
    "23.5\t45\t7.3\t0\t5\t19.3\n",
    "22.8\t44\t7.2\t0\t6.6\t19.5\n",
    "8.2\t23.5\t6.5\t0\t6.3\t55.5\n",
    "7.6\t22.6\t6.1\t0\t9.9\t53.8\n",
    "7.9\t24.1\t6.2\t0\t7.8\t54\n",
    "7.8\t23.2\t6\t0\t10\t53\n",
    "\"\"\"\n",
    "\n",
    "suggestions_targeted_by_team = [6250,6243,5073,5484,6489]\n",
    "\n",
    "seed_df, seed_data, pentanaries, pentanary_feats = update_with_new_data(suggestions_pentanaries.loc[suggestions_targeted_by_team], \n",
    "                                                                        new_raw_data, seed_df, seed_data, \n",
    "                                                                         pentanaries, pentanary_feats, \n",
    "                                                                         round_number=round_number,\n",
    "                                                                         elements=elements, measured=0)\n",
    "round_number+=1"
   ]
  },
  {
   "cell_type": "markdown",
   "metadata": {},
   "source": [
    "### Hexanary SINP discovery"
   ]
  },
  {
   "cell_type": "code",
   "execution_count": 13,
   "metadata": {},
   "outputs": [
    {
     "name": "stdout",
     "output_type": "stream",
     "text": [
      "- beta**0.5:0:  0.3185879466972021\n",
      "- beta**0.5:1:  0.3186607656682954\n",
      "- beta**0.5:2:  0.3187332317704999\n",
      "- beta**0.5:3:  0.31880534833555335\n",
      "- beta**0.5:4:  0.31887711864859103\n",
      "- beta**0.5:5:  0.3189485459490076\n",
      "- beta**0.5:6:  0.31901963343129863\n",
      "- beta**0.5:7:  0.31909038424588326\n",
      "- beta**0.5:8:  0.3191608014999082\n",
      "- beta**0.5:9:  0.3192308882580335\n"
     ]
    },
    {
     "data": {
      "text/html": [
       "<div>\n",
       "<style scoped>\n",
       "    .dataframe tbody tr th:only-of-type {\n",
       "        vertical-align: middle;\n",
       "    }\n",
       "\n",
       "    .dataframe tbody tr th {\n",
       "        vertical-align: top;\n",
       "    }\n",
       "\n",
       "    .dataframe thead th {\n",
       "        text-align: right;\n",
       "    }\n",
       "</style>\n",
       "<table border=\"1\" class=\"dataframe\">\n",
       "  <thead>\n",
       "    <tr style=\"text-align: right;\">\n",
       "      <th></th>\n",
       "      <th>Au%</th>\n",
       "      <th>Ag%</th>\n",
       "      <th>Cu%</th>\n",
       "      <th>Co%</th>\n",
       "      <th>Ni%</th>\n",
       "      <th>Pt%</th>\n",
       "      <th>Pd%</th>\n",
       "      <th>Sn%</th>\n",
       "    </tr>\n",
       "  </thead>\n",
       "  <tbody>\n",
       "    <tr>\n",
       "      <th>3837</th>\n",
       "      <td>0.1</td>\n",
       "      <td>0.1</td>\n",
       "      <td>0.1</td>\n",
       "      <td>0.2</td>\n",
       "      <td>0.4</td>\n",
       "      <td>0.0</td>\n",
       "      <td>0.1</td>\n",
       "      <td>0.0</td>\n",
       "    </tr>\n",
       "    <tr>\n",
       "      <th>5498</th>\n",
       "      <td>0.2</td>\n",
       "      <td>0.1</td>\n",
       "      <td>0.1</td>\n",
       "      <td>0.4</td>\n",
       "      <td>0.1</td>\n",
       "      <td>0.0</td>\n",
       "      <td>0.1</td>\n",
       "      <td>0.0</td>\n",
       "    </tr>\n",
       "    <tr>\n",
       "      <th>6504</th>\n",
       "      <td>0.3</td>\n",
       "      <td>0.1</td>\n",
       "      <td>0.1</td>\n",
       "      <td>0.3</td>\n",
       "      <td>0.1</td>\n",
       "      <td>0.0</td>\n",
       "      <td>0.1</td>\n",
       "      <td>0.0</td>\n",
       "    </tr>\n",
       "    <tr>\n",
       "      <th>3866</th>\n",
       "      <td>0.1</td>\n",
       "      <td>0.1</td>\n",
       "      <td>0.1</td>\n",
       "      <td>0.5</td>\n",
       "      <td>0.1</td>\n",
       "      <td>0.0</td>\n",
       "      <td>0.1</td>\n",
       "      <td>0.0</td>\n",
       "    </tr>\n",
       "    <tr>\n",
       "      <th>5469</th>\n",
       "      <td>0.2</td>\n",
       "      <td>0.1</td>\n",
       "      <td>0.1</td>\n",
       "      <td>0.1</td>\n",
       "      <td>0.4</td>\n",
       "      <td>0.0</td>\n",
       "      <td>0.1</td>\n",
       "      <td>0.0</td>\n",
       "    </tr>\n",
       "    <tr>\n",
       "      <th>3816</th>\n",
       "      <td>0.1</td>\n",
       "      <td>0.1</td>\n",
       "      <td>0.1</td>\n",
       "      <td>0.1</td>\n",
       "      <td>0.5</td>\n",
       "      <td>0.0</td>\n",
       "      <td>0.1</td>\n",
       "      <td>0.0</td>\n",
       "    </tr>\n",
       "    <tr>\n",
       "      <th>6488</th>\n",
       "      <td>0.3</td>\n",
       "      <td>0.1</td>\n",
       "      <td>0.1</td>\n",
       "      <td>0.1</td>\n",
       "      <td>0.3</td>\n",
       "      <td>0.0</td>\n",
       "      <td>0.1</td>\n",
       "      <td>0.0</td>\n",
       "    </tr>\n",
       "    <tr>\n",
       "      <th>3835</th>\n",
       "      <td>0.1</td>\n",
       "      <td>0.1</td>\n",
       "      <td>0.1</td>\n",
       "      <td>0.2</td>\n",
       "      <td>0.3</td>\n",
       "      <td>0.0</td>\n",
       "      <td>0.2</td>\n",
       "      <td>0.0</td>\n",
       "    </tr>\n",
       "    <tr>\n",
       "      <th>5479</th>\n",
       "      <td>0.2</td>\n",
       "      <td>0.1</td>\n",
       "      <td>0.1</td>\n",
       "      <td>0.2</td>\n",
       "      <td>0.1</td>\n",
       "      <td>0.0</td>\n",
       "      <td>0.3</td>\n",
       "      <td>0.0</td>\n",
       "    </tr>\n",
       "    <tr>\n",
       "      <th>3859</th>\n",
       "      <td>0.1</td>\n",
       "      <td>0.1</td>\n",
       "      <td>0.1</td>\n",
       "      <td>0.4</td>\n",
       "      <td>0.1</td>\n",
       "      <td>0.0</td>\n",
       "      <td>0.2</td>\n",
       "      <td>0.0</td>\n",
       "    </tr>\n",
       "  </tbody>\n",
       "</table>\n",
       "</div>"
      ],
      "text/plain": [
       "      Au%  Ag%  Cu%  Co%  Ni%  Pt%  Pd%  Sn%\n",
       "3837  0.1  0.1  0.1  0.2  0.4  0.0  0.1  0.0\n",
       "5498  0.2  0.1  0.1  0.4  0.1  0.0  0.1  0.0\n",
       "6504  0.3  0.1  0.1  0.3  0.1  0.0  0.1  0.0\n",
       "3866  0.1  0.1  0.1  0.5  0.1  0.0  0.1  0.0\n",
       "5469  0.2  0.1  0.1  0.1  0.4  0.0  0.1  0.0\n",
       "3816  0.1  0.1  0.1  0.1  0.5  0.0  0.1  0.0\n",
       "6488  0.3  0.1  0.1  0.1  0.3  0.0  0.1  0.0\n",
       "3835  0.1  0.1  0.1  0.2  0.3  0.0  0.2  0.0\n",
       "5479  0.2  0.1  0.1  0.2  0.1  0.0  0.3  0.0\n",
       "3859  0.1  0.1  0.1  0.4  0.1  0.0  0.2  0.0"
      ]
     },
     "metadata": {},
     "output_type": "display_data"
    },
    {
     "name": "stdout",
     "output_type": "stream",
     "text": [
      "            Au%  Ag%  Cu%  Co%  Ni%  Pt%  Pd%  Sn%  target\n",
      "suggested  0.10  0.1  0.1  0.2  0.4  0.0  0.1  0.0     NaN\n",
      "inseed     0.19  0.0  0.1  0.2  0.4  0.0  0.1  0.0     0.0\n",
      "            Au%  Ag%   Cu%   Co%   Ni%  Pt%   Pd%  Sn%  target\n",
      "suggested  0.20  0.1  0.10  0.40  0.10  0.0  0.10  0.0     NaN\n",
      "inseed     0.14  0.0  0.15  0.44  0.18  0.0  0.09  0.0     0.0\n",
      "            Au%  Ag%   Cu%   Co%   Ni%  Pt%   Pd%  Sn%  target\n",
      "suggested  0.30  0.1  0.10  0.30  0.10  0.0  0.10  0.0     NaN\n",
      "inseed     0.37  0.0  0.07  0.33  0.11  0.0  0.12  0.0     0.0\n",
      "            Au%  Ag%   Cu%   Co%   Ni%  Pt%   Pd%  Sn%  target\n",
      "suggested  0.10  0.1  0.10  0.50  0.10  0.0  0.10  0.0     NaN\n",
      "inseed     0.14  0.0  0.14  0.46  0.18  0.0  0.08  0.0     0.0\n",
      "           Au%  Ag%  Cu%   Co%  Ni%  Pt%   Pd%  Sn%  target\n",
      "suggested  0.2  0.1  0.1  0.10  0.4  0.0  0.10  0.0     NaN\n",
      "inseed     0.2  0.0  0.1  0.19  0.4  0.0  0.11  0.0     0.0\n",
      "            Au%  Ag%  Cu%   Co%  Ni%  Pt%   Pd%  Sn%  target\n",
      "suggested  0.10  0.1  0.1  0.10  0.5  0.0  0.10  0.0     NaN\n",
      "inseed     0.19  0.0  0.1  0.19  0.4  0.0  0.11  0.0     0.0\n",
      "            Au%  Ag%  Cu%   Co%   Ni%  Pt%  Pd%  Sn%  target\n",
      "suggested  0.30  0.1  0.1  0.10  0.30  0.0  0.1  0.0     NaN\n",
      "inseed     0.34  0.0  0.1  0.22  0.34  0.0  0.0  0.0     0.0\n",
      "            Au%  Ag%  Cu%  Co%  Ni%  Pt%   Pd%  Sn%  target\n",
      "suggested  0.10  0.1  0.1  0.2  0.3  0.0  0.20  0.0     NaN\n",
      "inseed     0.19  0.0  0.1  0.2  0.4  0.0  0.11  0.0     0.0\n",
      "            Au%  Ag%   Cu%  Co%  Ni%  Pt%  Pd%  Sn%  target\n",
      "suggested  0.20  0.1  0.10  0.2  0.1  0.0  0.3  0.0     NaN\n",
      "inseed     0.34  0.0  0.06  0.3  0.1  0.0  0.2  0.0     0.0\n",
      "            Au%  Ag%   Cu%   Co%   Ni%  Pt%   Pd%  Sn%  target\n",
      "suggested  0.10  0.1  0.10  0.40  0.10  0.0  0.20  0.0     NaN\n",
      "inseed     0.14  0.0  0.15  0.44  0.18  0.0  0.09  0.0     0.0\n"
     ]
    }
   ],
   "source": [
    "hexanaries = candidate_data[ ((candidate_data != 0).sum(axis=1) == 6)]\n",
    "hexanaries_feats = candidate_feats.loc[hexanaries.index]\n",
    "agent = EmbedCompGPUCB(n_query=10)\n",
    "suggestions_hexanaries = agent.get_hypotheses(candidate_data=hexanaries_feats, seed_data=seed_data)\n",
    "display(hexanaries.loc[ suggestions_hexanaries.index ].head(10))\n",
    "compare_to_seed(hexanaries.loc[ suggestions_hexanaries.index ], seed_df)"
   ]
  },
  {
   "cell_type": "code",
   "execution_count": null,
   "metadata": {},
   "outputs": [],
   "source": []
  }
 ],
 "metadata": {
  "kernelspec": {
   "display_name": "Python 3",
   "language": "python",
   "name": "python3"
  },
  "language_info": {
   "codemirror_mode": {
    "name": "ipython",
    "version": 3
   },
   "file_extension": ".py",
   "mimetype": "text/x-python",
   "name": "python",
   "nbconvert_exporter": "python",
   "pygments_lexer": "ipython3",
   "version": "3.8.6"
  }
 },
 "nbformat": 4,
 "nbformat_minor": 4
}
